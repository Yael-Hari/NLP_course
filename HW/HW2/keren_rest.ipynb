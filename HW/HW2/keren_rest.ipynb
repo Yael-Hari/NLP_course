{
 "cells": [
  {
   "cell_type": "code",
   "execution_count": 1,
   "metadata": {},
   "outputs": [
    {
     "name": "stdout",
     "output_type": "stream",
     "text": [
      "prepering glove...\n"
     ]
    }
   ],
   "source": [
    "from preprocessing import SentencesEmbeddingDataset\n",
    "embedding_type = \"glove\"\n",
    "batch_size = 32\n",
    "NER_dataset = SentencesEmbeddingDataset(embedding_model_type=embedding_type)\n",
    "train_loader, dev_loader = NER_dataset.get_data_loaders(batch_size=batch_size)"
   ]
  },
  {
   "cell_type": "code",
   "execution_count": 2,
   "metadata": {},
   "outputs": [],
   "source": [
    "from model3_comp import LSTM_NER_NN\n",
    "from train_loop_model3 import train_and_plot_LSTM"
   ]
  },
  {
   "cell_type": "code",
   "execution_count": 6,
   "metadata": {},
   "outputs": [
    {
     "name": "stdout",
     "output_type": "stream",
     "text": [
      "hidden_dim=32 | activation=Tanh() | num_layers=3\n",
      "No GPU available, training on CPU.\n",
      "Batch: 1/107 | Batch Loss: 0.673 | Train Accuracy: 0.956 | Train F1: nan\n",
      "Batch: 101/107 | Batch Loss: 0.362 | Train Accuracy: 0.950 | Train F1: nan\n",
      "Epoch: 1/10 | Train Avg Loss: 0.406 | Train Accuracy: 0.950 | Train F1: nan\n",
      "Val Accuracy: 0.903 | Val F1: nan\n",
      "Val Accuracy: 0.921 | Val F1: nan\n",
      "Batch: 1/107 | Batch Loss: 0.378 | Train Accuracy: 0.936 | Train F1: nan\n",
      "Batch: 101/107 | Batch Loss: 0.352 | Train Accuracy: 0.950 | Train F1: nan\n",
      "Epoch: 2/10 | Train Avg Loss: 0.364 | Train Accuracy: 0.950 | Train F1: nan\n",
      "Val Accuracy: 0.927 | Val F1: nan\n",
      "Val Accuracy: 0.921 | Val F1: nan\n",
      "Batch: 1/107 | Batch Loss: 0.367 | Train Accuracy: 0.946 | Train F1: nan\n",
      "Batch: 101/107 | Batch Loss: 0.347 | Train Accuracy: 0.950 | Train F1: nan\n",
      "Epoch: 3/10 | Train Avg Loss: 0.364 | Train Accuracy: 0.950 | Train F1: nan\n",
      "Val Accuracy: 0.942 | Val F1: nan\n",
      "Val Accuracy: 0.921 | Val F1: nan\n",
      "Batch: 1/107 | Batch Loss: 0.356 | Train Accuracy: 0.958 | Train F1: nan\n",
      "Batch: 101/107 | Batch Loss: 0.380 | Train Accuracy: 0.950 | Train F1: nan\n",
      "Epoch: 4/10 | Train Avg Loss: 0.363 | Train Accuracy: 0.950 | Train F1: nan\n",
      "Val Accuracy: 0.913 | Val F1: nan\n",
      "Val Accuracy: 0.921 | Val F1: nan\n",
      "Batch: 1/107 | Batch Loss: 0.359 | Train Accuracy: 0.954 | Train F1: nan\n",
      "Batch: 101/107 | Batch Loss: 0.366 | Train Accuracy: 0.950 | Train F1: nan\n",
      "Epoch: 5/10 | Train Avg Loss: 0.364 | Train Accuracy: 0.950 | Train F1: nan\n",
      "Val Accuracy: 0.949 | Val F1: nan\n",
      "Val Accuracy: 0.921 | Val F1: nan\n",
      "Batch: 1/107 | Batch Loss: 0.388 | Train Accuracy: 0.926 | Train F1: nan\n",
      "Batch: 101/107 | Batch Loss: 0.399 | Train Accuracy: 0.950 | Train F1: nan\n",
      "Epoch: 6/10 | Train Avg Loss: 0.363 | Train Accuracy: 0.950 | Train F1: nan\n",
      "Val Accuracy: 0.907 | Val F1: nan\n",
      "Val Accuracy: 0.921 | Val F1: nan\n",
      "Batch: 1/107 | Batch Loss: 0.361 | Train Accuracy: 0.952 | Train F1: nan\n",
      "Batch: 101/107 | Batch Loss: 0.391 | Train Accuracy: 0.950 | Train F1: nan\n",
      "Epoch: 7/10 | Train Avg Loss: 0.363 | Train Accuracy: 0.950 | Train F1: nan\n",
      "Val Accuracy: 0.930 | Val F1: nan\n",
      "Val Accuracy: 0.921 | Val F1: nan\n",
      "Batch: 1/107 | Batch Loss: 0.360 | Train Accuracy: 0.953 | Train F1: nan\n",
      "Batch: 101/107 | Batch Loss: 0.350 | Train Accuracy: 0.950 | Train F1: nan\n",
      "Epoch: 8/10 | Train Avg Loss: 0.363 | Train Accuracy: 0.950 | Train F1: nan\n",
      "Val Accuracy: 0.923 | Val F1: nan\n",
      "Val Accuracy: 0.921 | Val F1: nan\n",
      "Batch: 1/107 | Batch Loss: 0.355 | Train Accuracy: 0.958 | Train F1: nan\n",
      "Batch: 101/107 | Batch Loss: 0.363 | Train Accuracy: 0.949 | Train F1: nan\n",
      "Epoch: 9/10 | Train Avg Loss: 0.364 | Train Accuracy: 0.950 | Train F1: nan\n",
      "Val Accuracy: 0.906 | Val F1: nan\n",
      "Val Accuracy: 0.921 | Val F1: nan\n",
      "Batch: 1/107 | Batch Loss: 0.364 | Train Accuracy: 0.949 | Train F1: nan\n",
      "Batch: 101/107 | Batch Loss: 0.375 | Train Accuracy: 0.950 | Train F1: nan\n",
      "Epoch: 10/10 | Train Avg Loss: 0.363 | Train Accuracy: 0.950 | Train F1: nan\n",
      "Val Accuracy: 0.896 | Val F1: nan\n",
      "Val Accuracy: 0.921 | Val F1: nan\n"
     ]
    }
   ],
   "source": [
    "from torch.optim import Adam\n",
    "import torch.nn as nn\n",
    "\n",
    "num_classes = 2\n",
    "num_epochs = 10\n",
    "embedding_dim = NER_dataset.VEC_DIM\n",
    "lr = 0.001\n",
    "\n",
    "hidden_dim = 32\n",
    "# activation = nn.ReLU()\n",
    "# activation = nn.Sigmoid()\n",
    "activation = nn.Tanh()\n",
    "num_layers = 3\n",
    "\n",
    "model_save_path = (\n",
    "    f\"LSTM_model_stateDict_batchSize_{batch_size}_hidden_{hidden_dim}_lr_{lr}.pt\"\n",
    ")\n",
    "\n",
    "LSTM_model = LSTM_NER_NN(\n",
    "    embedding_dim=embedding_dim,\n",
    "    num_classes=num_classes,\n",
    "    hidden_dim=hidden_dim,\n",
    "    model_save_path=model_save_path,\n",
    "    activation=activation,\n",
    "    num_layers=num_layers,\n",
    ")\n",
    "\n",
    "optimizer = Adam(params=LSTM_model.parameters(), lr=lr)\n",
    "loss_func = nn.CrossEntropyLoss()\n",
    "\n",
    "train_and_plot_LSTM(\n",
    "    LSTM_model=LSTM_model,\n",
    "    train_loader=train_loader,\n",
    "    num_epochs=num_epochs,\n",
    "    val_loader=dev_loader,\n",
    "    optimizer=optimizer,\n",
    "    loss_func=loss_func,\n",
    ")"
   ]
  },
  {
   "cell_type": "code",
   "execution_count": null,
   "metadata": {},
   "outputs": [],
   "source": []
  }
 ],
 "metadata": {
  "kernelspec": {
   "display_name": "Python 3.8.14 64-bit",
   "language": "python",
   "name": "python3"
  },
  "language_info": {
   "codemirror_mode": {
    "name": "ipython",
    "version": 3
   },
   "file_extension": ".py",
   "mimetype": "text/x-python",
   "name": "python",
   "nbconvert_exporter": "python",
   "pygments_lexer": "ipython3",
   "version": "3.8.14"
  },
  "orig_nbformat": 4,
  "vscode": {
   "interpreter": {
    "hash": "5b6e8fba36db23bc4d54e0302cd75fdd75c29d9edcbab68d6cfc74e7e4b30305"
   }
  }
 },
 "nbformat": 4,
 "nbformat_minor": 2
}
