{
 "cells": [
  {
   "cell_type": "markdown",
   "metadata": {},
   "source": [
    "# model 3"
   ]
  },
  {
   "cell_type": "code",
   "execution_count": 1,
   "metadata": {},
   "outputs": [],
   "source": [
    "from abc import ABC\n",
    "import numpy as np\n",
    "import torch\n",
    "import torch.nn as nn\n",
    "import torch.nn.functional as F\n",
    "from torch.utils.data import Dataset, DataLoader\n",
    "import pandas as pd\n",
    "from sklearn.model_selection import train_test_split\n",
    "from tqdm import tqdm, trange\n",
    "from preprocessing import SentencesEmbeddingDataset\n",
    "from model2_nn import train_and_plot\n",
    "from torch.nn.utils import rnn\n",
    "import torch\n",
    "import torch.nn as nn\n",
    "import torch.nn.functional as F\n",
    "from torch.nn.utils.rnn import pack_padded_sequence, pad_packed_sequence\n",
    "from torch.optim import Adam\n",
    "from train_loop_model3 import train_and_plot_LSTM\n",
    "from utils import remove_padding\n",
    "from model3_comp import LSTM_NER_NN\n",
    "from utils import print_epoch_details, remove_padding\n",
    "from torch.nn.functional import one_hot"
   ]
  },
  {
   "cell_type": "code",
   "execution_count": 3,
   "metadata": {},
   "outputs": [
    {
     "name": "stdout",
     "output_type": "stream",
     "text": [
      "preparing embedding...\n"
     ]
    }
   ],
   "source": [
    "ds = SentencesEmbeddingDataset(vec_dim=500, \n",
    "                               list_embedding_paths=['glove-twitter-200', 'word2vec-google-news-300'],\n",
    "                               list_vec_dims=[200, 300]\n",
    "                               )\n"
   ]
  },
  {
   "cell_type": "code",
   "execution_count": 4,
   "metadata": {},
   "outputs": [],
   "source": [
    "batch_size = 32\n",
    "train_dataloader, dev_dataloader, test_dataloader = ds.get_data_loaders(batch_size=batch_size)"
   ]
  },
  {
   "cell_type": "code",
   "execution_count": 5,
   "metadata": {},
   "outputs": [],
   "source": [
    "ds.embedding_model=None"
   ]
  },
  {
   "cell_type": "code",
   "execution_count": 6,
   "metadata": {},
   "outputs": [],
   "source": [
    "torch.save((train_dataloader, dev_dataloader, test_dataloader), 'concated_ds.pkl')"
   ]
  },
  {
   "cell_type": "code",
   "execution_count": 12,
   "metadata": {},
   "outputs": [],
   "source": [
    "train_dataloader, dev_dataloader, test_dataloader = torch.load('concated_ds.pkl')"
   ]
  },
  {
   "cell_type": "code",
   "execution_count": 13,
   "metadata": {},
   "outputs": [
    {
     "data": {
      "text/plain": [
       "<torch.utils.data.dataloader.DataLoader at 0x1abcc20d130>"
      ]
     },
     "execution_count": 13,
     "metadata": {},
     "output_type": "execute_result"
    }
   ],
   "source": [
    "train_loader"
   ]
  },
  {
   "cell_type": "code",
   "execution_count": null,
   "metadata": {},
   "outputs": [],
   "source": [
    "ds.vec_dim=300"
   ]
  },
  {
   "cell_type": "code",
   "execution_count": null,
   "metadata": {},
   "outputs": [],
   "source": [
    "batch_size = 32\n",
    "train_loader, dev_loader = ds.get_data_loaders(batch_size=batch_size)"
   ]
  },
  {
   "cell_type": "code",
   "execution_count": 5,
   "metadata": {},
   "outputs": [
    {
     "name": "stdout",
     "output_type": "stream",
     "text": [
      "preparing embedding...\n",
      "----------------------------------------------------------\n",
      "embedding_name='glove-wiki-gigaword-300' | hidden_dim=256 | dropout=0.2                                 \n",
      "class_weights=tensor([0.1000, 0.9000]) | loss_func=CrossEntropyLoss()\n",
      "No GPU available, training on CPU.\n"
     ]
    }
   ],
   "source": [
    "from model3_comp import main\n",
    "main()\n",
    "# run(\n",
    "#     NER_dataset=ds,\n",
    "#     embedding_name=\"concated\",\n",
    "#     vec_dim=500,\n",
    "#     hidden_dim=256,\n",
    "#     dropout=0.4,\n",
    "#     class_weights=torch.tensor([0.1, 0.9]),\n",
    "#     loss_func=nn.CrossEntropyLoss(weight=torch.tensor([0.1, 0.9])),\n",
    "#     loss_func_name='CrossEntropy',\n",
    "# )"
   ]
  },
  {
   "cell_type": "markdown",
   "metadata": {},
   "source": [
    "# max_pull"
   ]
  },
  {
   "cell_type": "code",
   "execution_count": 16,
   "metadata": {},
   "outputs": [
    {
     "data": {
      "text/plain": [
       "(torch.Size([32, 320]), torch.Size([32, 220]))"
      ]
     },
     "execution_count": 16,
     "metadata": {},
     "output_type": "execute_result"
    }
   ],
   "source": [
    "# pool of square window of size=3, stride=2\n",
    "m = nn.MaxPool1d(2, stride=2)\n",
    "# pool of non-square window\n",
    "# m = nn.MaxPool2d((3, 2))\n",
    "input = torch.randn(32, 320)\n",
    "output = m(input)\n",
    "input.size(), output.size()"
   ]
  },
  {
   "cell_type": "code",
   "execution_count": null,
   "metadata": {},
   "outputs": [],
   "source": []
  },
  {
   "cell_type": "markdown",
   "metadata": {},
   "source": [
    "# data"
   ]
  },
  {
   "cell_type": "code",
   "execution_count": null,
   "metadata": {},
   "outputs": [],
   "source": [
    "import pandas as pd\n",
    "df = pd.read_csv('data/ner.csv')\n",
    "df = df.drop('POS', 1)\n",
    "df['Sentence'] = df['Sentence'].apply(lambda x: x.split())\n",
    "df['Tag'] = df['Tag'].apply(lambda x: x.strip(\"[]\").replace(\"'\", '').split(', '))\n",
    "df['len_sent'] = df['Sentence'].apply(lambda x: len(x))\n",
    "df['len_tag'] = df['Tag'].apply(lambda x: len(x))\n",
    "mask = (df['len_sent'] == df['len_tag'])\n",
    "df = df[mask]\n",
    "df = df.drop([\n",
    "    5699, 8331, 9158, 26395, 26399, 28978, 29163, 31422, 31423, 31426, 31427, \n",
    "    33653, 34217, 34220, 39286, 39290, 43339, 47182\n",
    "])\n",
    "\n",
    "with open('data/my_dataset', 'w') as f:\n",
    "    for i in df.iterrows():\n",
    "        for word, tag in zip(i[1]['Sentence'], i[1]['Tag']):\n",
    "            f.write(f'{str(word)}\\t{tag}\\n')\n",
    "        f.write('\\n')"
   ]
  },
  {
   "cell_type": "code",
   "execution_count": null,
   "metadata": {},
   "outputs": [
    {
     "data": {
      "text/plain": [
       "47958"
      ]
     },
     "execution_count": 131,
     "metadata": {},
     "output_type": "execute_result"
    }
   ],
   "source": [
    "i[0]"
   ]
  },
  {
   "cell_type": "code",
   "execution_count": null,
   "metadata": {},
   "outputs": [
    {
     "data": {
      "text/plain": [
       "47937"
      ]
     },
     "execution_count": 132,
     "metadata": {},
     "output_type": "execute_result"
    }
   ],
   "source": [
    "len(df)"
   ]
  },
  {
   "cell_type": "markdown",
   "metadata": {},
   "source": [
    "# data- CONLL Corpora (2003)"
   ]
  },
  {
   "cell_type": "code",
   "execution_count": 8,
   "metadata": {},
   "outputs": [],
   "source": [
    "import pandas as pd\n",
    "df = pd.read_csv('data/train.txt', sep=' ', names=['word', 'irr1', 'irr2', 'tag'])\n",
    "df = df.drop(['irr1', 'irr2'], 1)"
   ]
  },
  {
   "cell_type": "code",
   "execution_count": 11,
   "metadata": {},
   "outputs": [],
   "source": [
    "def load_sentences(filepath):\n",
    "\n",
    "    final = []\n",
    "    sentences = []\n",
    "\n",
    "    with open(filepath, 'r') as f:\n",
    "        \n",
    "        for line in f.readlines():\n",
    "            \n",
    "            if (line == ('-DOCSTART- -X- -X- O\\n') or line == '\\n'):\n",
    "                if len(sentences) > 0:\n",
    "                    final.append(sentences)\n",
    "                    sentences = []\n",
    "            else:\n",
    "                l = line.split(' ')\n",
    "                sentences.append((l[0], l[3].strip('\\n')))\n",
    "    \n",
    "    return final"
   ]
  },
  {
   "cell_type": "code",
   "execution_count": 13,
   "metadata": {},
   "outputs": [],
   "source": [
    "sentences = load_sentences('data/train.txt')\n",
    "with open('data/my_train.txt', 'w') as f:\n",
    "    for sent in sentences:\n",
    "        for word, tag in sent:\n",
    "            f.write(f'{str(word)}\\t{tag}\\n')\n",
    "        f.write('\\n')"
   ]
  },
  {
   "cell_type": "code",
   "execution_count": 14,
   "metadata": {},
   "outputs": [],
   "source": [
    "sentences = load_sentences('data/valid.txt')\n",
    "with open('data/my_valid.txt', 'w') as f:\n",
    "    for sent in sentences:\n",
    "        for word, tag in sent:\n",
    "            f.write(f'{str(word)}\\t{tag}\\n')\n",
    "        f.write('\\n')"
   ]
  },
  {
   "cell_type": "code",
   "execution_count": null,
   "metadata": {},
   "outputs": [],
   "source": [
    "def write_to_tagged_file(y_pred):\n",
    "    empty_lines = ['\\t', '']\n",
    "    with open('data/test.untagged', 'r') as untag:\n",
    "        with open('data/test.tagged', 'w') as tag:\n",
    "            for y in y_pred:\n",
    "                line = ''\n",
    "                while line in empty_lines:\n",
    "                    line = untag.readline()\n",
    "                    if line in empty_lines:\n",
    "                        tag.write('\\n')\n",
    "                    line = untag.readline()\n",
    "                tag.write(f\"{line}\\t{y}\\n\")"
   ]
  },
  {
   "cell_type": "code",
   "execution_count": 9,
   "metadata": {},
   "outputs": [
    {
     "ename": "UnicodeDecodeError",
     "evalue": "'charmap' codec can't decode byte 0x9d in position 1247: character maps to <undefined>",
     "output_type": "error",
     "traceback": [
      "\u001b[1;31m---------------------------------------------------------------------------\u001b[0m",
      "\u001b[1;31mUnicodeDecodeError\u001b[0m                        Traceback (most recent call last)",
      "\u001b[1;32mc:\\Users\\YaelH\\OneDrive\\Documents\\technion\\00 Winter 22-23\\NLP\\HW\\HW2\\testing.ipynb Cell 25\u001b[0m in \u001b[0;36m<cell line: 2>\u001b[1;34m()\u001b[0m\n\u001b[0;32m      <a href='vscode-notebook-cell:/c%3A/Users/YaelH/OneDrive/Documents/technion/00%20Winter%2022-23/NLP/HW/HW2/testing.ipynb#X35sZmlsZQ%3D%3D?line=1'>2</a>\u001b[0m \u001b[39mwith\u001b[39;00m \u001b[39mopen\u001b[39m(\u001b[39m'\u001b[39m\u001b[39mdata/test.untagged\u001b[39m\u001b[39m'\u001b[39m, \u001b[39m'\u001b[39m\u001b[39mr\u001b[39m\u001b[39m'\u001b[39m) \u001b[39mas\u001b[39;00m untag:\n\u001b[0;32m      <a href='vscode-notebook-cell:/c%3A/Users/YaelH/OneDrive/Documents/technion/00%20Winter%2022-23/NLP/HW/HW2/testing.ipynb#X35sZmlsZQ%3D%3D?line=2'>3</a>\u001b[0m     \u001b[39mwith\u001b[39;00m \u001b[39mopen\u001b[39m(\u001b[39m'\u001b[39m\u001b[39mdata/test.tagged\u001b[39m\u001b[39m'\u001b[39m, \u001b[39m'\u001b[39m\u001b[39mw\u001b[39m\u001b[39m'\u001b[39m) \u001b[39mas\u001b[39;00m tag:\n\u001b[1;32m----> <a href='vscode-notebook-cell:/c%3A/Users/YaelH/OneDrive/Documents/technion/00%20Winter%2022-23/NLP/HW/HW2/testing.ipynb#X35sZmlsZQ%3D%3D?line=3'>4</a>\u001b[0m         line \u001b[39m=\u001b[39m untag\u001b[39m.\u001b[39;49mreadline()\n\u001b[0;32m      <a href='vscode-notebook-cell:/c%3A/Users/YaelH/OneDrive/Documents/technion/00%20Winter%2022-23/NLP/HW/HW2/testing.ipynb#X35sZmlsZQ%3D%3D?line=4'>5</a>\u001b[0m         \u001b[39mprint\u001b[39m(\u001b[39mtype\u001b[39m(line))\n",
      "File \u001b[1;32mc:\\Program Files\\Python39\\lib\\encodings\\cp1252.py:23\u001b[0m, in \u001b[0;36mIncrementalDecoder.decode\u001b[1;34m(self, input, final)\u001b[0m\n\u001b[0;32m     22\u001b[0m \u001b[39mdef\u001b[39;00m \u001b[39mdecode\u001b[39m(\u001b[39mself\u001b[39m, \u001b[39minput\u001b[39m, final\u001b[39m=\u001b[39m\u001b[39mFalse\u001b[39;00m):\n\u001b[1;32m---> 23\u001b[0m     \u001b[39mreturn\u001b[39;00m codecs\u001b[39m.\u001b[39;49mcharmap_decode(\u001b[39minput\u001b[39;49m,\u001b[39mself\u001b[39;49m\u001b[39m.\u001b[39;49merrors,decoding_table)[\u001b[39m0\u001b[39m]\n",
      "\u001b[1;31mUnicodeDecodeError\u001b[0m: 'charmap' codec can't decode byte 0x9d in position 1247: character maps to <undefined>"
     ]
    }
   ],
   "source": [
    "empty_lines = ['\\t', '']\n",
    "with open('data/test.untagged', 'r') as untag:\n",
    "    with open('data/test.tagged', 'w') as tag:\n",
    "        line = untag.readline()\n",
    "        print(type(line))"
   ]
  },
  {
   "cell_type": "code",
   "execution_count": 17,
   "metadata": {},
   "outputs": [
    {
     "data": {
      "text/html": [
       "<div>\n",
       "<style scoped>\n",
       "    .dataframe tbody tr th:only-of-type {\n",
       "        vertical-align: middle;\n",
       "    }\n",
       "\n",
       "    .dataframe tbody tr th {\n",
       "        vertical-align: top;\n",
       "    }\n",
       "\n",
       "    .dataframe thead th {\n",
       "        text-align: right;\n",
       "    }\n",
       "</style>\n",
       "<table border=\"1\" class=\"dataframe\">\n",
       "  <thead>\n",
       "    <tr style=\"text-align: right;\">\n",
       "      <th></th>\n",
       "      <th>word</th>\n",
       "      <th>real</th>\n",
       "      <th>pred</th>\n",
       "    </tr>\n",
       "  </thead>\n",
       "  <tbody>\n",
       "    <tr>\n",
       "      <th>0</th>\n",
       "      <td>Stabilized</td>\n",
       "      <td>0</td>\n",
       "      <td>0</td>\n",
       "    </tr>\n",
       "    <tr>\n",
       "      <th>1</th>\n",
       "      <td>approach</td>\n",
       "      <td>0</td>\n",
       "      <td>0</td>\n",
       "    </tr>\n",
       "    <tr>\n",
       "      <th>2</th>\n",
       "      <td>or</td>\n",
       "      <td>0</td>\n",
       "      <td>0</td>\n",
       "    </tr>\n",
       "    <tr>\n",
       "      <th>3</th>\n",
       "      <td>not</td>\n",
       "      <td>0</td>\n",
       "      <td>0</td>\n",
       "    </tr>\n",
       "    <tr>\n",
       "      <th>4</th>\n",
       "      <td>?</td>\n",
       "      <td>0</td>\n",
       "      <td>0</td>\n",
       "    </tr>\n",
       "    <tr>\n",
       "      <th>...</th>\n",
       "      <td>...</td>\n",
       "      <td>...</td>\n",
       "      <td>...</td>\n",
       "    </tr>\n",
       "    <tr>\n",
       "      <th>5178</th>\n",
       "      <td>show</td>\n",
       "      <td>0</td>\n",
       "      <td>0</td>\n",
       "    </tr>\n",
       "    <tr>\n",
       "      <th>5179</th>\n",
       "      <td>on</td>\n",
       "      <td>0</td>\n",
       "      <td>0</td>\n",
       "    </tr>\n",
       "    <tr>\n",
       "      <th>5180</th>\n",
       "      <td>Discivery</td>\n",
       "      <td>1</td>\n",
       "      <td>0</td>\n",
       "    </tr>\n",
       "    <tr>\n",
       "      <th>5181</th>\n",
       "      <td>Channel</td>\n",
       "      <td>1</td>\n",
       "      <td>0</td>\n",
       "    </tr>\n",
       "    <tr>\n",
       "      <th>5182</th>\n",
       "      <td>!</td>\n",
       "      <td>0</td>\n",
       "      <td>1</td>\n",
       "    </tr>\n",
       "  </tbody>\n",
       "</table>\n",
       "<p>5183 rows × 3 columns</p>\n",
       "</div>"
      ],
      "text/plain": [
       "            word  real  pred\n",
       "0     Stabilized     0     0\n",
       "1       approach     0     0\n",
       "2             or     0     0\n",
       "3            not     0     0\n",
       "4              ?     0     0\n",
       "...          ...   ...   ...\n",
       "5178        show     0     0\n",
       "5179          on     0     0\n",
       "5180   Discivery     1     0\n",
       "5181     Channel     1     0\n",
       "5182           !     0     1\n",
       "\n",
       "[5183 rows x 3 columns]"
      ]
     },
     "execution_count": 17,
     "metadata": {},
     "output_type": "execute_result"
    }
   ],
   "source": [
    "import pandas as pd\n",
    "from sklearn.metrics import f1_score\n",
    "df = pd.read_csv('comp_206014482_316375872.tagged', sep='\\t', names=['word', 'real', 'pred'])\n",
    "df['real'] = df['real'].apply(lambda x: 0 if x == 'O' else 1)\n",
    "df['pred'] = df['pred'].apply(lambda x: 0 if x == 'O' else 1)\n",
    "df"
   ]
  },
  {
   "cell_type": "code",
   "execution_count": 18,
   "metadata": {},
   "outputs": [
    {
     "data": {
      "text/plain": [
       "0.11144883485309016"
      ]
     },
     "execution_count": 18,
     "metadata": {},
     "output_type": "execute_result"
    }
   ],
   "source": [
    "f1_score(df['real'], df['pred'])"
   ]
  }
 ],
 "metadata": {
  "kernelspec": {
   "display_name": "Python 3.9.2 64-bit",
   "language": "python",
   "name": "python3"
  },
  "language_info": {
   "codemirror_mode": {
    "name": "ipython",
    "version": 3
   },
   "file_extension": ".py",
   "mimetype": "text/x-python",
   "name": "python",
   "nbconvert_exporter": "python",
   "pygments_lexer": "ipython3",
   "version": "3.9.2"
  },
  "vscode": {
   "interpreter": {
    "hash": "11938c6bc6919ae2720b4d5011047913343b08a43b18698fd82dedb0d4417594"
   }
  }
 },
 "nbformat": 4,
 "nbformat_minor": 0
}
