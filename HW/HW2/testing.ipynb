{
 "cells": [
  {
   "cell_type": "markdown",
   "metadata": {},
   "source": [
    "# model 3"
   ]
  },
  {
   "cell_type": "code",
   "execution_count": 2,
   "metadata": {},
   "outputs": [],
   "source": [
    "from abc import ABC\n",
    "import numpy as np\n",
    "import torch\n",
    "import torch.nn as nn\n",
    "import torch.nn.functional as F\n",
    "from torch.utils.data import Dataset, DataLoader\n",
    "import pandas as pd\n",
    "from sklearn.model_selection import train_test_split\n",
    "from tqdm import tqdm, trange\n",
    "from preprocessing import SentencesEmbeddingDataset\n",
    "from model2_nn import train_and_plot\n",
    "from torch.nn.utils import rnn\n",
    "import torch\n",
    "import torch.nn as nn\n",
    "import torch.nn.functional as F\n",
    "from torch.nn.utils.rnn import pack_padded_sequence, pad_packed_sequence\n",
    "from torch.optim import Adam\n",
    "from train_loop_model3 import train_and_plot_LSTM\n",
    "from utils import remove_padding\n",
    "from model3_comp import LSTM_NER_NN\n",
    "from utils import print_epoch_details, remove_padding\n",
    "from torch.nn.functional import one_hot"
   ]
  },
  {
   "cell_type": "code",
   "execution_count": 3,
   "metadata": {},
   "outputs": [
    {
     "name": "stdout",
     "output_type": "stream",
     "text": [
      "preparing embedding...\n"
     ]
    }
   ],
   "source": [
    "ds = SentencesEmbeddingDataset(vec_dim=300, \n",
    "                               embedding_model_path=\"word2vec-google-news-300\"\n",
    "                            #    list_embedding_paths=['glove-twitter-200', 'word2vec-google-news-300'],\n",
    "                            #    list_vec_dims=[200, 300]\n",
    "                               )"
   ]
  },
  {
   "cell_type": "code",
   "execution_count": 5,
   "metadata": {},
   "outputs": [],
   "source": [
    "ds.vec_dim=300"
   ]
  },
  {
   "cell_type": "code",
   "execution_count": 6,
   "metadata": {},
   "outputs": [],
   "source": [
    "batch_size = 32\n",
    "train_loader, dev_loader = ds.get_data_loaders(batch_size=batch_size)"
   ]
  },
  {
   "cell_type": "code",
   "execution_count": null,
   "metadata": {},
   "outputs": [
    {
     "name": "stderr",
     "output_type": "stream",
     "text": [
      "C:\\Users\\YaelH\\AppData\\Roaming\\Python\\Python39\\site-packages\\torch\\nn\\modules\\rnn.py:67: UserWarning: dropout option adds dropout after all but last recurrent layer, so non-zero dropout expects num_layers greater than 1, but got dropout=0.4 and num_layers=1\n",
      "  warnings.warn(\"dropout option adds dropout after all but last \"\n"
     ]
    },
    {
     "name": "stdout",
     "output_type": "stream",
     "text": [
      "No GPU available, training on CPU.\n",
      "Epoch: 1/10 | train Accuracy: 0.927 | train F1: 0.445\n",
      "Epoch: 1/10 | validate Accuracy: 0.894 | validate F1: 0.541\n",
      "Epoch: 2/10 | train Accuracy: 0.934 | train F1: 0.558\n",
      "Epoch: 2/10 | validate Accuracy: 0.931 | validate F1: 0.622\n",
      "Epoch: 3/10 | train Accuracy: 0.947 | train F1: 0.621\n",
      "Epoch: 3/10 | validate Accuracy: 0.917 | validate F1: 0.599\n",
      "Epoch: 4/10 | train Accuracy: 0.957 | train F1: 0.674\n",
      "Epoch: 4/10 | validate Accuracy: 0.939 | validate F1: 0.648\n",
      "Epoch: 5/10 | train Accuracy: 0.965 | train F1: 0.720\n",
      "Epoch: 5/10 | validate Accuracy: 0.946 | validate F1: 0.660\n",
      "Epoch: 6/10 | train Accuracy: 0.967 | train F1: 0.732\n",
      "Epoch: 6/10 | validate Accuracy: 0.946 | validate F1: 0.657\n",
      "Epoch: 7/10 | train Accuracy: 0.971 | train F1: 0.762\n",
      "Epoch: 7/10 | validate Accuracy: 0.947 | validate F1: 0.658\n",
      "Epoch: 8/10 | train Accuracy: 0.976 | train F1: 0.797\n",
      "Epoch: 8/10 | validate Accuracy: 0.950 | validate F1: 0.663\n",
      "Epoch: 9/10 | train Accuracy: 0.979 | train F1: 0.819\n",
      "Epoch: 9/10 | validate Accuracy: 0.948 | validate F1: 0.659\n",
      "Epoch: 10/10 | train Accuracy: 0.980 | train F1: 0.822\n",
      "Epoch: 10/10 | validate Accuracy: 0.945 | validate F1: 0.656\n"
     ]
    },
    {
     "data": {
      "image/png": "[encoded data removed]",
      "text/plain": [
       "<Figure size 432x288 with 1 Axes>"
      ]
     },
     "metadata": {
      "needs_background": "light"
     },
     "output_type": "display_data"
    }
   ],
   "source": [
    "from model3_comp import main\n",
    "main()\n",
    "# run(\n",
    "#     NER_dataset=ds,\n",
    "#     embedding_name=\"concated\",\n",
    "#     vec_dim=500,\n",
    "#     hidden_dim=256,\n",
    "#     dropout=0.4,\n",
    "#     class_weights=torch.tensor([0.1, 0.9]),\n",
    "#     loss_func=nn.CrossEntropyLoss(weight=torch.tensor([0.1, 0.9])),\n",
    "#     loss_func_name='CrossEntropy',\n",
    "# )"
   ]
  },
  {
   "cell_type": "markdown",
   "metadata": {},
   "source": [
    "# max_pull"
   ]
  },
  {
   "cell_type": "code",
   "execution_count": 15,
   "metadata": {},
   "outputs": [],
   "source": [
    "# pool of square window of size=3, stride=2\n",
    "m = nn.MaxPool1d(2, stride=2)\n",
    "# pool of non-square window\n",
    "# m = nn.MaxPool2d((3, 2))\n",
    "input = torch.randn(32, 128)\n",
    "output = m(input)"
   ]
  },
  {
   "cell_type": "code",
   "execution_count": 16,
   "metadata": {},
   "outputs": [
    {
     "data": {
      "text/plain": [
       "(torch.Size([32, 128]), torch.Size([32, 64]))"
      ]
     },
     "execution_count": 16,
     "metadata": {},
     "output_type": "execute_result"
    }
   ],
   "source": [
    "input.size(), output.size()"
   ]
  },
  {
   "cell_type": "code",
   "execution_count": null,
   "metadata": {},
   "outputs": [],
   "source": []
  },
  {
   "cell_type": "markdown",
   "metadata": {},
   "source": [
    "# data"
   ]
  },
  {
   "cell_type": "code",
   "execution_count": 130,
   "metadata": {},
   "outputs": [],
   "source": [
    "import pandas as pd\n",
    "df = pd.read_csv('data/ner.csv')\n",
    "df = df.drop('POS', 1)\n",
    "df['Sentence'] = df['Sentence'].apply(lambda x: x.split())\n",
    "df['Tag'] = df['Tag'].apply(lambda x: x.strip(\"[]\").replace(\"'\", '').split(', '))\n",
    "df['len_sent'] = df['Sentence'].apply(lambda x: len(x))\n",
    "df['len_tag'] = df['Tag'].apply(lambda x: len(x))\n",
    "mask = (df['len_sent'] == df['len_tag'])\n",
    "df = df[mask]\n",
    "df = df.drop([\n",
    "    5699, 8331, 9158, 26395, 26399, 28978, 29163, 31422, 31423, 31426, 31427, \n",
    "    33653, 34217, 34220, 39286, 39290, 43339, 47182\n",
    "])\n",
    "\n",
    "with open('data/my_dataset', 'w') as f:\n",
    "    for i in df.iterrows():\n",
    "        for word, tag in zip(i[1]['Sentence'], i[1]['Tag']):\n",
    "            f.write(f'{str(word)}\\t{tag}\\n')\n",
    "        f.write('\\n')"
   ]
  },
  {
   "cell_type": "code",
   "execution_count": 131,
   "metadata": {},
   "outputs": [
    {
     "data": {
      "text/plain": [
       "47958"
      ]
     },
     "execution_count": 131,
     "metadata": {},
     "output_type": "execute_result"
    }
   ],
   "source": [
    "i[0]"
   ]
  },
  {
   "cell_type": "code",
   "execution_count": 132,
   "metadata": {},
   "outputs": [
    {
     "data": {
      "text/plain": [
       "47937"
      ]
     },
     "execution_count": 132,
     "metadata": {},
     "output_type": "execute_result"
    }
   ],
   "source": [
    "len(df)"
   ]
  }
 ],
 "metadata": {
  "kernelspec": {
   "display_name": "Python 3.9.2 64-bit",
   "language": "python",
   "name": "python3"
  },
  "language_info": {
   "codemirror_mode": {
    "name": "ipython",
    "version": 3
   },
   "file_extension": ".py",
   "mimetype": "text/x-python",
   "name": "python",
   "nbconvert_exporter": "python",
   "pygments_lexer": "ipython3",
   "version": "3.9.2"
  },
  "vscode": {
   "interpreter": {
    "hash": "11938c6bc6919ae2720b4d5011047913343b08a43b18698fd82dedb0d4417594"
   }
  }
 },
 "nbformat": 4,
 "nbformat_minor": 0
}
